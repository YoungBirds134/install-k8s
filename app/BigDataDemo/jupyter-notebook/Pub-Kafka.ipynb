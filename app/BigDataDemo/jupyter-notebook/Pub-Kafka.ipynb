{
 "cells": [
  {
   "cell_type": "code",
   "execution_count": 6,
   "metadata": {},
   "outputs": [
    {
     "name": "stdout",
     "output_type": "stream",
     "text": [
      "Hello World 2\n"
     ]
    }
   ],
   "source": [
    "print(\"Hello World 2\")"
   ]
  },
  {
   "cell_type": "code",
   "execution_count": 7,
   "metadata": {},
   "outputs": [
    {
     "name": "stdout",
     "output_type": "stream",
     "text": [
      "Requirement already satisfied: kafka-python in /opt/conda/lib/python3.7/site-packages (2.0.2)\n",
      "Note: you may need to restart the kernel to use updated packages.\n"
     ]
    }
   ],
   "source": [
    "pip install kafka-python\n"
   ]
  },
  {
   "cell_type": "code",
   "execution_count": 1,
   "metadata": {},
   "outputs": [
    {
     "name": "stdout",
     "output_type": "stream",
     "text": [
      "Message published successfully.\n",
      "Message published successfully.\n",
      "Message published successfully.\n"
     ]
    }
   ],
   "source": [
    "import json\n",
    "\n",
    "from kafka import KafkaProducer\n",
    "\n",
    "\n",
    "def publish_message(kafka_producer, topic_name, key, value):\n",
    "    try:\n",
    "        key_bytes = bytes(key, encoding='utf-8')\n",
    "        value_bytes = bytes(value, encoding='utf-8')\n",
    "        kafka_producer.send(topic_name, key=key_bytes, value=value_bytes)\n",
    "        kafka_producer.flush()\n",
    "        print('Message published successfully.')\n",
    "    except Exception as ex:\n",
    "        print(str(ex))\n",
    "\n",
    "\n",
    "if __name__ == '__main__':\n",
    "    kafka_producer = KafkaProducer(bootstrap_servers=['kafka:9093'], api_version=(0, 10))\n",
    "    employees = [\n",
    "        {\n",
    "            \"name\": \"John Smith\",\n",
    "            \"id\": 1\n",
    "        }, {\n",
    "            \"name\": \"Susan Doe\",\n",
    "            \"id\": 2\n",
    "        }, {\n",
    "            \"name\": \"Karen Rock\",\n",
    "            \"id\": 3\n",
    "        },\n",
    "    ]\n",
    "    for employee in employees:\n",
    "        publish_message(\n",
    "            kafka_producer=kafka_producer,\n",
    "            topic_name='employees',\n",
    "            key=str(employee['id']),\n",
    "            value=json.dumps(employee)\n",
    "        )\n",
    "    if kafka_producer is not None:\n",
    "        kafka_producer.close()"
   ]
  },
  {
   "cell_type": "code",
   "execution_count": null,
   "metadata": {},
   "outputs": [],
   "source": []
  },
  {
   "cell_type": "code",
   "execution_count": null,
   "metadata": {},
   "outputs": [],
   "source": []
  }
 ],
 "metadata": {
  "kernelspec": {
   "display_name": "Python 3",
   "language": "python",
   "name": "python3"
  },
  "language_info": {
   "codemirror_mode": {
    "name": "ipython",
    "version": 3
   },
   "file_extension": ".py",
   "mimetype": "text/x-python",
   "name": "python",
   "nbconvert_exporter": "python",
   "pygments_lexer": "ipython3",
   "version": "3.7.3"
  }
 },
 "nbformat": 4,
 "nbformat_minor": 2
}
