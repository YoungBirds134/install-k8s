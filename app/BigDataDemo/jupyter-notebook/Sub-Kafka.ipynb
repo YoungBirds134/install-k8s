{
 "cells": [
  {
   "cell_type": "code",
   "execution_count": 3,
   "metadata": {},
   "outputs": [
    {
     "name": "stdout",
     "output_type": "stream",
     "text": [
      "This employee is not Karen. It's actually John Smith\n",
      "This employee is not Karen. It's actually Susan Doe\n"
     ]
    }
   ],
   "source": [
    "import json\n",
    "from time import sleep\n",
    "\n",
    "from kafka import KafkaConsumer\n",
    "\n",
    "if __name__ == '__main__':\n",
    "    consumer = KafkaConsumer(\n",
    "        'employees',\n",
    "        auto_offset_reset='earliest',\n",
    "        bootstrap_servers=['kafka:9093'],\n",
    "        api_version=(0, 10),\n",
    "        consumer_timeout_ms=1000\n",
    "    )\n",
    "    for msg in consumer:\n",
    "        record = json.loads(msg.value)\n",
    "        employee_id = int(record['id'])\n",
    "        name = record['name']\n",
    "\n",
    "        if employee_id != 3:\n",
    "            print(f\"This employee is not Karen. It's actually {name}\")\n",
    "        sleep(3)\n",
    "\n",
    "    if consumer is not None:\n",
    "        consumer.close()\n",
    "\n",
    "\n"
   ]
  },
  {
   "cell_type": "code",
   "execution_count": null,
   "metadata": {},
   "outputs": [],
   "source": []
  }
 ],
 "metadata": {
  "kernelspec": {
   "display_name": "Python 3",
   "language": "python",
   "name": "python3"
  },
  "language_info": {
   "codemirror_mode": {
    "name": "ipython",
    "version": 3
   },
   "file_extension": ".py",
   "mimetype": "text/x-python",
   "name": "python",
   "nbconvert_exporter": "python",
   "pygments_lexer": "ipython3",
   "version": "3.7.3"
  }
 },
 "nbformat": 4,
 "nbformat_minor": 2
}
