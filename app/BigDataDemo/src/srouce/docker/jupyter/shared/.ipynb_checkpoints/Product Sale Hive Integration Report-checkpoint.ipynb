{
 "cells": [
  {
   "cell_type": "code",
   "execution_count": null,
   "metadata": {},
   "outputs": [],
   "source": [
    "from pyhive import hive\n",
    "\n",
    "hive_conn = hive.Connection(host=\"hive-server\", port=10000)\n",
    "hive_cursor = hive_conn.cursor()"
   ]
  },
  {
   "cell_type": "code",
   "execution_count": null,
   "metadata": {},
   "outputs": [],
   "source": [
    "import matplotlib.pyplot as plt\n",
    "import numpy as np\n",
    "\n",
    "hive_cursor.execute('SELECT COUNT(productid), productcategory FROM ProductSale GROUP BY productcategory')\n",
    "products = hive_cursor.fetchall()\n",
    "\n",
    "countItems = []\n",
    "countItems.extend(product[0] for product in products)\n",
    "\n",
    "categories = []\n",
    "categories.extend(product[1] for product in products)\n",
    "y_pos = np.arange(len(categories))\n",
    "\n",
    "plt.figure(figsize=(8, 6), dpi=80, facecolor='w', edgecolor='k')\n",
    "plt.bar(y_pos, countItems, align='center', alpha=0.5)\n",
    "plt.xticks(y_pos, categories)\n",
    "plt.ylabel('Sales Item')\n",
    "plt.title('Product Categories Sales Report')\n",
    "\n",
    "plt.show()"
   ]
  },
  {
   "cell_type": "code",
   "execution_count": null,
   "metadata": {},
   "outputs": [],
   "source": []
  },
  {
   "cell_type": "code",
   "execution_count": null,
   "metadata": {},
   "outputs": [],
   "source": []
  }
 ],
 "metadata": {
  "kernelspec": {
   "display_name": "Python 3",
   "language": "python",
   "name": "python3"
  },
  "language_info": {
   "codemirror_mode": {
    "name": "ipython",
    "version": 3
   },
   "file_extension": ".py",
   "mimetype": "text/x-python",
   "name": "python",
   "nbconvert_exporter": "python",
   "pygments_lexer": "ipython3",
   "version": "3.7.3"
  }
 },
 "nbformat": 4,
 "nbformat_minor": 2
}
