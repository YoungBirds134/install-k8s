{
 "cells": [
  {
   "cell_type": "code",
   "execution_count": 8,
   "metadata": {},
   "outputs": [
    {
     "name": "stdout",
     "output_type": "stream",
     "text": [
      "DataFrame[key: binary, value: binary, topic: string, partition: int, offset: bigint, timestamp: timestamp, timestampType: int]\n"
     ]
    },
    {
     "name": "stderr",
     "output_type": "stream",
     "text": [
      "/opt/conda/lib/python3.7/site-packages/pyspark/context.py:317: FutureWarning: Python 3.7 support is deprecated in Spark 3.4.\n",
      "  warnings.warn(\"Python 3.7 support is deprecated in Spark 3.4.\", FutureWarning)\n"
     ]
    }
   ],
   "source": [
    "import os\n",
    "from pyspark import SparkContext\n",
    "from pyspark.streaming import StreamingContext\n",
    "from pyspark.streaming.kafka import KafkaUtils\n",
    "\n",
    "# Set the classpath to include the JAR file\n",
    "os.environ['PYSPARK_SUBMIT_ARGS'] = '--jars /home/jovyan/spark-streaming-kafka-0-8-assembly_2.11-2.0.0-preview.jar pyspark-shell'\n",
    "\n",
    "# Initialize a SparkContext\n",
    "sc = SparkContext(appName=\"Kafka Message Processing\")\n",
    "\n",
    "# Initialize a StreamingContext with a batch interval of 15 seconds\n",
    "ssc = StreamingContext(sc, 15)\n",
    "\n",
    "# Define your Kafka parameters\n",
    "topics = [\"employees\"]\n",
    "kafka_params = {\n",
    "    \"bootstrap.servers\": \"kafka:9093\"\n",
    "}\n",
    "\n",
    "# Create a direct stream from Kafka\n",
    "direct_stream = KafkaUtils.createDirectStream(ssc, topics, kafka_params)\n",
    "\n",
    "# Define your data processing logic\n",
    "def process_data(rdd):\n",
    "    # Process each batch of RDDs\n",
    "    for message in rdd.collect():\n",
    "        # Process the Kafka message\n",
    "        print(\"Received message: \" + message[1])\n",
    "\n",
    "# Apply your processing logic to each batch of RDDs\n",
    "direct_stream.foreachRDD(process_data)\n",
    "\n",
    "# Start the Spark Streaming context\n",
    "ssc.start()\n",
    "\n",
    "# Wait for the context to terminate (Ctrl+C to stop)\n",
    "ssc.awaitTermination()\n",
    "spark.stop()\n"
   ]
  },
  {
   "cell_type": "code",
   "execution_count": null,
   "metadata": {},
   "outputs": [],
   "source": []
  },
  {
   "cell_type": "code",
   "execution_count": 9,
   "metadata": {},
   "outputs": [],
   "source": []
  },
  {
   "cell_type": "code",
   "execution_count": null,
   "metadata": {},
   "outputs": [],
   "source": []
  },
  {
   "cell_type": "code",
   "execution_count": null,
   "metadata": {},
   "outputs": [],
   "source": []
  },
  {
   "cell_type": "code",
   "execution_count": null,
   "metadata": {},
   "outputs": [],
   "source": []
  }
 ],
 "metadata": {
  "kernelspec": {
   "display_name": "Python 3",
   "language": "python",
   "name": "python3"
  },
  "language_info": {
   "codemirror_mode": {
    "name": "ipython",
    "version": 3
   },
   "file_extension": ".py",
   "mimetype": "text/x-python",
   "name": "python",
   "nbconvert_exporter": "python",
   "pygments_lexer": "ipython3",
   "version": "3.7.3"
  }
 },
 "nbformat": 4,
 "nbformat_minor": 2
}
